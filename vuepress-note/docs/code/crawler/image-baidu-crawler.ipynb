{
 "cells": [
  {
   "cell_type": "markdown",
   "metadata": {},
   "source": [
    "### 1. 获取图片地址"
   ]
  },
  {
   "cell_type": "code",
   "execution_count": 16,
   "metadata": {},
   "outputs": [
    {
     "name": "stdout",
     "output_type": "stream",
     "text": [
      "http://image.baidu.com/search/acjson?tn=resultjson_com&ipn=rj&ct=201326592&is=&fp=result&fr=&word=%E7%BE%8E%E5%A5%B3&cg=girl&queryWord=%E7%BE%8E%E5%A5%B3&cl=2&lm=-1&ie=utf-8&oe=utf-8&adpicid=&st=-1&z=&ic=0&hd=&latest=&copyright=&s=&se=&tab=&width=&height=&face=0&istype=2&qc=&nc=1&expermode=&nojc=&isAsync=&pn=0&rn=30&gsm=f0&1636555380492=\n",
      "https://img2.baidu.com/it/u=1890746833,878440754&fm=26&fmt=auto\n",
      "https://img2.baidu.com/it/u=3643648615,1379429149&fm=26&fmt=auto\n",
      "https://img2.baidu.com/it/u=2795724226,3705372660&fm=26&fmt=auto\n",
      "https://img1.baidu.com/it/u=2245644826,4002252467&fm=26&fmt=auto\n",
      "https://img2.baidu.com/it/u=1304311584,2108720111&fm=26&fmt=auto\n",
      "https://img2.baidu.com/it/u=2468345199,3071128405&fm=26&fmt=auto\n",
      "https://img1.baidu.com/it/u=1944010400,1854607199&fm=253&fmt=auto&app=138&f=JPEG?w=500&h=860\n",
      "https://img0.baidu.com/it/u=1934854801,2871685401&fm=253&fmt=auto&app=138&f=JPEG?w=500&h=313\n",
      "https://img2.baidu.com/it/u=2294763673,1414730261&fm=26&fmt=auto\n",
      "https://img1.baidu.com/it/u=558442588,3678075188&fm=253&fmt=auto&app=138&f=JPEG?w=500&h=281\n",
      "https://img1.baidu.com/it/u=262753821,3033567314&fm=26&fmt=auto\n",
      "https://img0.baidu.com/it/u=2374970440,3889254752&fm=26&fmt=auto\n",
      "https://img0.baidu.com/it/u=2957485189,1913031349&fm=253&fmt=auto&app=138&f=JPEG?w=889&h=500\n",
      "https://img2.baidu.com/it/u=3585801008,2391543755&fm=26&fmt=auto\n",
      "https://img0.baidu.com/it/u=539861487,466528009&fm=26&fmt=auto\n",
      "https://img2.baidu.com/it/u=3512868349,2077882270&fm=26&fmt=auto\n",
      "https://img0.baidu.com/it/u=2889371076,2512753262&fm=26&fmt=auto\n",
      "https://img0.baidu.com/it/u=3666818470,3703232324&fm=26&fmt=auto\n",
      "https://img2.baidu.com/it/u=3083490177,4087830236&fm=26&fmt=auto\n",
      "https://img2.baidu.com/it/u=2553688060,1501863682&fm=26&fmt=auto\n",
      "https://img0.baidu.com/it/u=2298484978,1703903334&fm=26&fmt=auto\n",
      "https://img1.baidu.com/it/u=1179511405,3283104328&fm=26&fmt=auto\n",
      "https://img0.baidu.com/it/u=3239470131,3433763396&fm=26&fmt=auto\n",
      "https://img0.baidu.com/it/u=281372375,3794871923&fm=26&fmt=auto\n",
      "https://img2.baidu.com/it/u=3237279790,1805120392&fm=26&fmt=auto\n",
      "https://img2.baidu.com/it/u=2120879242,3792882105&fm=26&fmt=auto\n",
      "https://img1.baidu.com/it/u=2290651451,2877741819&fm=26&fmt=auto\n",
      "https://img0.baidu.com/it/u=660961140,628551717&fm=26&fmt=auto\n",
      "https://img1.baidu.com/it/u=1853152494,188670086&fm=26&fmt=auto\n",
      "https://img1.baidu.com/it/u=2433009041,2432403899&fm=26&fmt=auto\n"
     ]
    }
   ],
   "source": [
    "import urllib\n",
    "import requests\n",
    "\n",
    "# 获取百度图片的请求URL\n",
    "def get_urls(search_word,page_num=1):\n",
    "    search_word = urllib.parse.quote(search_word)\n",
    "    url = 'http://image.baidu.com/search/acjson?'\n",
    "\n",
    "    for i in range(page_num):\n",
    "          yield f'{url}tn=resultjson_com&ipn=rj&ct=201326592&is=&fp=result&fr=&word={search_word}&cg=girl&queryWord={search_word}&cl=2&lm=-1&ie=utf-8&oe=utf-8&adpicid=&st=-1&z=&ic=0&hd=&latest=&copyright=&s=&se=&tab=&width=&height=&face=0&istype=2&qc=&nc=1&expermode=&nojc=&isAsync=&pn={30*i}&rn=30&gsm=f0&1636555380492='\n",
    "# 获取每张图片的地址URL\n",
    "def get_image_urls(url):\n",
    "  headers = {'User-Agent': 'Mozilla/5.0 (Linux; Android 6.0; Nexus 5 Build/MRA58N) AppleWebKit/537.36 (KHTML, like Gecko) Chrome/95.0.4638.69 Mobile Safari/537.36'}\n",
    "  json_data = requests.get(url,headers=headers).json()\n",
    "  for row in json_data.get('data'):\n",
    "    if row:\n",
    "      yield row.get('thumbURL')\n",
    "\n",
    "# 测试\n",
    "for url in get_urls(\"美女\"):\n",
    "    print(url)\n",
    "    for image_url in get_image_urls(url):\n",
    "      print(image_url)"
   ]
  },
  {
   "cell_type": "markdown",
   "metadata": {},
   "source": [
    "### 2. 异步下载图片"
   ]
  },
  {
   "cell_type": "code",
   "execution_count": 17,
   "metadata": {},
   "outputs": [
    {
     "data": {
      "text/plain": [
       "({<Task finished name='Task-544' coro=<download_image() done, defined at C:\\Users\\hanlitao\\AppData\\Local\\Temp/ipykernel_26368/1511763789.py:17> result=None>,\n",
       "  <Task finished name='Task-545' coro=<download_image() done, defined at C:\\Users\\hanlitao\\AppData\\Local\\Temp/ipykernel_26368/1511763789.py:17> result=None>,\n",
       "  <Task finished name='Task-546' coro=<download_image() done, defined at C:\\Users\\hanlitao\\AppData\\Local\\Temp/ipykernel_26368/1511763789.py:17> result=None>,\n",
       "  <Task finished name='Task-547' coro=<download_image() done, defined at C:\\Users\\hanlitao\\AppData\\Local\\Temp/ipykernel_26368/1511763789.py:17> result=None>,\n",
       "  <Task finished name='Task-548' coro=<download_image() done, defined at C:\\Users\\hanlitao\\AppData\\Local\\Temp/ipykernel_26368/1511763789.py:17> result=None>,\n",
       "  <Task finished name='Task-549' coro=<download_image() done, defined at C:\\Users\\hanlitao\\AppData\\Local\\Temp/ipykernel_26368/1511763789.py:17> result=None>,\n",
       "  <Task finished name='Task-550' coro=<download_image() done, defined at C:\\Users\\hanlitao\\AppData\\Local\\Temp/ipykernel_26368/1511763789.py:17> result=None>,\n",
       "  <Task finished name='Task-551' coro=<download_image() done, defined at C:\\Users\\hanlitao\\AppData\\Local\\Temp/ipykernel_26368/1511763789.py:17> result=None>,\n",
       "  <Task finished name='Task-552' coro=<download_image() done, defined at C:\\Users\\hanlitao\\AppData\\Local\\Temp/ipykernel_26368/1511763789.py:17> result=None>,\n",
       "  <Task finished name='Task-553' coro=<download_image() done, defined at C:\\Users\\hanlitao\\AppData\\Local\\Temp/ipykernel_26368/1511763789.py:17> result=None>,\n",
       "  <Task finished name='Task-554' coro=<download_image() done, defined at C:\\Users\\hanlitao\\AppData\\Local\\Temp/ipykernel_26368/1511763789.py:17> result=None>,\n",
       "  <Task finished name='Task-555' coro=<download_image() done, defined at C:\\Users\\hanlitao\\AppData\\Local\\Temp/ipykernel_26368/1511763789.py:17> result=None>,\n",
       "  <Task finished name='Task-556' coro=<download_image() done, defined at C:\\Users\\hanlitao\\AppData\\Local\\Temp/ipykernel_26368/1511763789.py:17> result=None>,\n",
       "  <Task finished name='Task-557' coro=<download_image() done, defined at C:\\Users\\hanlitao\\AppData\\Local\\Temp/ipykernel_26368/1511763789.py:17> result=None>,\n",
       "  <Task finished name='Task-558' coro=<download_image() done, defined at C:\\Users\\hanlitao\\AppData\\Local\\Temp/ipykernel_26368/1511763789.py:17> result=None>,\n",
       "  <Task finished name='Task-559' coro=<download_image() done, defined at C:\\Users\\hanlitao\\AppData\\Local\\Temp/ipykernel_26368/1511763789.py:17> result=None>,\n",
       "  <Task finished name='Task-560' coro=<download_image() done, defined at C:\\Users\\hanlitao\\AppData\\Local\\Temp/ipykernel_26368/1511763789.py:17> result=None>,\n",
       "  <Task finished name='Task-561' coro=<download_image() done, defined at C:\\Users\\hanlitao\\AppData\\Local\\Temp/ipykernel_26368/1511763789.py:17> result=None>,\n",
       "  <Task finished name='Task-562' coro=<download_image() done, defined at C:\\Users\\hanlitao\\AppData\\Local\\Temp/ipykernel_26368/1511763789.py:17> result=None>,\n",
       "  <Task finished name='Task-563' coro=<download_image() done, defined at C:\\Users\\hanlitao\\AppData\\Local\\Temp/ipykernel_26368/1511763789.py:17> result=None>,\n",
       "  <Task finished name='Task-564' coro=<download_image() done, defined at C:\\Users\\hanlitao\\AppData\\Local\\Temp/ipykernel_26368/1511763789.py:17> result=None>,\n",
       "  <Task finished name='Task-565' coro=<download_image() done, defined at C:\\Users\\hanlitao\\AppData\\Local\\Temp/ipykernel_26368/1511763789.py:17> result=None>,\n",
       "  <Task finished name='Task-566' coro=<download_image() done, defined at C:\\Users\\hanlitao\\AppData\\Local\\Temp/ipykernel_26368/1511763789.py:17> result=None>,\n",
       "  <Task finished name='Task-567' coro=<download_image() done, defined at C:\\Users\\hanlitao\\AppData\\Local\\Temp/ipykernel_26368/1511763789.py:17> result=None>,\n",
       "  <Task finished name='Task-568' coro=<download_image() done, defined at C:\\Users\\hanlitao\\AppData\\Local\\Temp/ipykernel_26368/1511763789.py:17> result=None>,\n",
       "  <Task finished name='Task-569' coro=<download_image() done, defined at C:\\Users\\hanlitao\\AppData\\Local\\Temp/ipykernel_26368/1511763789.py:17> result=None>,\n",
       "  <Task finished name='Task-570' coro=<download_image() done, defined at C:\\Users\\hanlitao\\AppData\\Local\\Temp/ipykernel_26368/1511763789.py:17> result=None>,\n",
       "  <Task finished name='Task-571' coro=<download_image() done, defined at C:\\Users\\hanlitao\\AppData\\Local\\Temp/ipykernel_26368/1511763789.py:17> result=None>,\n",
       "  <Task finished name='Task-572' coro=<download_image() done, defined at C:\\Users\\hanlitao\\AppData\\Local\\Temp/ipykernel_26368/1511763789.py:17> result=None>,\n",
       "  <Task finished name='Task-573' coro=<download_image() done, defined at C:\\Users\\hanlitao\\AppData\\Local\\Temp/ipykernel_26368/1511763789.py:17> result=None>,\n",
       "  <Task finished name='Task-574' coro=<download_image() done, defined at C:\\Users\\hanlitao\\AppData\\Local\\Temp/ipykernel_26368/1511763789.py:17> result=None>,\n",
       "  <Task finished name='Task-575' coro=<download_image() done, defined at C:\\Users\\hanlitao\\AppData\\Local\\Temp/ipykernel_26368/1511763789.py:17> result=None>,\n",
       "  <Task finished name='Task-576' coro=<download_image() done, defined at C:\\Users\\hanlitao\\AppData\\Local\\Temp/ipykernel_26368/1511763789.py:17> result=None>,\n",
       "  <Task finished name='Task-577' coro=<download_image() done, defined at C:\\Users\\hanlitao\\AppData\\Local\\Temp/ipykernel_26368/1511763789.py:17> result=None>,\n",
       "  <Task finished name='Task-578' coro=<download_image() done, defined at C:\\Users\\hanlitao\\AppData\\Local\\Temp/ipykernel_26368/1511763789.py:17> result=None>,\n",
       "  <Task finished name='Task-579' coro=<download_image() done, defined at C:\\Users\\hanlitao\\AppData\\Local\\Temp/ipykernel_26368/1511763789.py:17> result=None>,\n",
       "  <Task finished name='Task-580' coro=<download_image() done, defined at C:\\Users\\hanlitao\\AppData\\Local\\Temp/ipykernel_26368/1511763789.py:17> result=None>,\n",
       "  <Task finished name='Task-581' coro=<download_image() done, defined at C:\\Users\\hanlitao\\AppData\\Local\\Temp/ipykernel_26368/1511763789.py:17> result=None>,\n",
       "  <Task finished name='Task-582' coro=<download_image() done, defined at C:\\Users\\hanlitao\\AppData\\Local\\Temp/ipykernel_26368/1511763789.py:17> result=None>,\n",
       "  <Task finished name='Task-583' coro=<download_image() done, defined at C:\\Users\\hanlitao\\AppData\\Local\\Temp/ipykernel_26368/1511763789.py:17> result=None>,\n",
       "  <Task finished name='Task-584' coro=<download_image() done, defined at C:\\Users\\hanlitao\\AppData\\Local\\Temp/ipykernel_26368/1511763789.py:17> result=None>,\n",
       "  <Task finished name='Task-585' coro=<download_image() done, defined at C:\\Users\\hanlitao\\AppData\\Local\\Temp/ipykernel_26368/1511763789.py:17> result=None>,\n",
       "  <Task finished name='Task-586' coro=<download_image() done, defined at C:\\Users\\hanlitao\\AppData\\Local\\Temp/ipykernel_26368/1511763789.py:17> result=None>,\n",
       "  <Task finished name='Task-587' coro=<download_image() done, defined at C:\\Users\\hanlitao\\AppData\\Local\\Temp/ipykernel_26368/1511763789.py:17> result=None>,\n",
       "  <Task finished name='Task-588' coro=<download_image() done, defined at C:\\Users\\hanlitao\\AppData\\Local\\Temp/ipykernel_26368/1511763789.py:17> result=None>,\n",
       "  <Task finished name='Task-589' coro=<download_image() done, defined at C:\\Users\\hanlitao\\AppData\\Local\\Temp/ipykernel_26368/1511763789.py:17> result=None>,\n",
       "  <Task finished name='Task-590' coro=<download_image() done, defined at C:\\Users\\hanlitao\\AppData\\Local\\Temp/ipykernel_26368/1511763789.py:17> result=None>,\n",
       "  <Task finished name='Task-591' coro=<download_image() done, defined at C:\\Users\\hanlitao\\AppData\\Local\\Temp/ipykernel_26368/1511763789.py:17> result=None>,\n",
       "  <Task finished name='Task-592' coro=<download_image() done, defined at C:\\Users\\hanlitao\\AppData\\Local\\Temp/ipykernel_26368/1511763789.py:17> result=None>,\n",
       "  <Task finished name='Task-593' coro=<download_image() done, defined at C:\\Users\\hanlitao\\AppData\\Local\\Temp/ipykernel_26368/1511763789.py:17> result=None>,\n",
       "  <Task finished name='Task-594' coro=<download_image() done, defined at C:\\Users\\hanlitao\\AppData\\Local\\Temp/ipykernel_26368/1511763789.py:17> result=None>,\n",
       "  <Task finished name='Task-595' coro=<download_image() done, defined at C:\\Users\\hanlitao\\AppData\\Local\\Temp/ipykernel_26368/1511763789.py:17> result=None>,\n",
       "  <Task finished name='Task-596' coro=<download_image() done, defined at C:\\Users\\hanlitao\\AppData\\Local\\Temp/ipykernel_26368/1511763789.py:17> result=None>,\n",
       "  <Task finished name='Task-597' coro=<download_image() done, defined at C:\\Users\\hanlitao\\AppData\\Local\\Temp/ipykernel_26368/1511763789.py:17> result=None>,\n",
       "  <Task finished name='Task-598' coro=<download_image() done, defined at C:\\Users\\hanlitao\\AppData\\Local\\Temp/ipykernel_26368/1511763789.py:17> result=None>,\n",
       "  <Task finished name='Task-599' coro=<download_image() done, defined at C:\\Users\\hanlitao\\AppData\\Local\\Temp/ipykernel_26368/1511763789.py:17> result=None>,\n",
       "  <Task finished name='Task-600' coro=<download_image() done, defined at C:\\Users\\hanlitao\\AppData\\Local\\Temp/ipykernel_26368/1511763789.py:17> result=None>,\n",
       "  <Task finished name='Task-601' coro=<download_image() done, defined at C:\\Users\\hanlitao\\AppData\\Local\\Temp/ipykernel_26368/1511763789.py:17> result=None>,\n",
       "  <Task finished name='Task-602' coro=<download_image() done, defined at C:\\Users\\hanlitao\\AppData\\Local\\Temp/ipykernel_26368/1511763789.py:17> result=None>,\n",
       "  <Task finished name='Task-603' coro=<download_image() done, defined at C:\\Users\\hanlitao\\AppData\\Local\\Temp/ipykernel_26368/1511763789.py:17> result=None>},\n",
       " set())"
      ]
     },
     "execution_count": 17,
     "metadata": {},
     "output_type": "execute_result"
    }
   ],
   "source": [
    "import os\n",
    "import asyncio\n",
    "import aiohttp\n",
    "\n",
    "# 如果使用ipython notebook报错，尝试增加2行代码\n",
    "import nest_asyncio\n",
    "nest_asyncio.apply()\n",
    "\n",
    "# 异步请求图片\n",
    "async def get_image(url):\n",
    "  async with aiohttp.ClientSession() as session:\n",
    "    response = await session.get(url)\n",
    "    content = await response.read()\n",
    "    return content\n",
    "\n",
    "# 下载图片到本地文件\n",
    "async def download_image(url,filename):\n",
    "  html = await get_image(url)\n",
    "  with open(filename,'wb') as fw:\n",
    "    fw.write(html)\n",
    "\n",
    "# 测试\n",
    "task = []\n",
    "search_word = \"美女\"\n",
    "\n",
    "path_dir = os.path.join(os.getcwd(),search_word)\n",
    "\n",
    "if not os.path.exists(path_dir):\n",
    "  os.mkdir(path_dir) # 创建目录\n",
    "\n",
    "for url in get_urls(search_word,2):\n",
    "  for image_url in get_image_urls(url):\n",
    "    filename = f\"{len(task) + 1}.jpg\"\n",
    "    filename = os.path.join(path_dir,filename)\n",
    "    task.append(asyncio.ensure_future(download_image(image_url,filename)))\n",
    "\n",
    "# 获取时间循环 Eventloop\n",
    "loop = asyncio.get_event_loop()\n",
    "\n",
    "# 执行协程\n",
    "loop.run_until_complete(asyncio.wait(task))"
   ]
  },
  {
   "cell_type": "code",
   "execution_count": null,
   "metadata": {},
   "outputs": [],
   "source": []
  }
 ],
 "metadata": {
  "interpreter": {
   "hash": "63fd5069d213b44bf678585dea6b12cceca9941eaf7f819626cde1f2670de90d"
  },
  "kernelspec": {
   "display_name": "Python 3.9.4 64-bit",
   "language": "python",
   "name": "python3"
  },
  "language_info": {
   "codemirror_mode": {
    "name": "ipython",
    "version": 3
   },
   "file_extension": ".py",
   "mimetype": "text/x-python",
   "name": "python",
   "nbconvert_exporter": "python",
   "pygments_lexer": "ipython3",
   "version": "3.8.11"
  },
  "orig_nbformat": 4
 },
 "nbformat": 4,
 "nbformat_minor": 2
}
